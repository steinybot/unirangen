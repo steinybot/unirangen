{
 "cells": [
  {
   "cell_type": "markdown",
   "id": "1cfe38b2-96ff-45db-8915-90296d04557c",
   "metadata": {
    "editable": true,
    "slideshow": {
     "slide_type": ""
    },
    "tags": []
   },
   "source": [
    "# A Smarter Implementation\n",
    "\n",
    "We should be able to search smarter."
   ]
  },
  {
   "cell_type": "code",
   "execution_count": 9,
   "id": "03e10b97-12d4-4e39-b556-ba6b917f44df",
   "metadata": {
    "editable": true,
    "slideshow": {
     "slide_type": ""
    },
    "tags": []
   },
   "outputs": [],
   "source": [
    "import random\n",
    "import logging\n",
    "from typing import Generator\n",
    "from math import comb, log, ceil, floor\n",
    "\n",
    "\n",
    "logger = logging.getLogger()\n",
    "logger.handlers.clear()\n",
    "console_handler = logging.StreamHandler()\n",
    "console_handler.setLevel(logging.DEBUG)\n",
    "\n",
    "\n",
    "def find_min_value_given_probability(N, n, target_probability):\n",
    "    # Calculate the total combinations for the sample\n",
    "    total_combinations = comb(N, n)\n",
    "\n",
    "    logger.debug(f'N = {N}')\n",
    "    logger.debug(f'n = {n}')\n",
    "    logger.debug(f'target_probability = {target_probability}')\n",
    "    \n",
    "    m = 1\n",
    "    # Smallest known m where P(m) > target.\n",
    "    m_min = m - 1\n",
    "    # Largest known m where P(m) <= target.\n",
    "    m_max = N - n + 1\n",
    "    \n",
    "    while m <= m_max:\n",
    "        current_combination = comb(N - m, n)\n",
    "        probability = current_combination / total_combinations\n",
    "\n",
    "        logger.debug(f'm = {m}')\n",
    "        logger.debug(f'm_min = {m_min}')\n",
    "        logger.debug(f'm_max = {m_max}')\n",
    "        logger.debug(f'probability = {probability}')\n",
    "        \n",
    "        if probability <= target_probability:\n",
    "            if m_min + 1 == m:\n",
    "                return m\n",
    "            else:\n",
    "                m_max = m\n",
    "                m -= ceil((m - m_min) / 2)\n",
    "        else:\n",
    "            m_min = m\n",
    "            m_step = ceil(log(target_probability) / log(probability))\n",
    "            logger.debug(f'm_step = {m_step}')\n",
    "            m_max = min(m_max, m + m_step)\n",
    "            logger.debug(f'next m_max = {m_max}')\n",
    "            m += ceil((m_max - m) / 2)\n",
    "\n",
    "    return m\n",
    "\n",
    "\n",
    "def generate_unique_random_numbers(min_num: int, max_num: int, batch_size: int) -> Generator[int, None, None]:\n",
    "    if max_num - min_num + 1 < batch_size:\n",
    "        raise ValueError(\"Range is too small to generate the requested number of unique random numbers.\")\n",
    "\n",
    "    n = batch_size\n",
    "\n",
    "    while n > 0:\n",
    "        N = max_num - min_num + 1\n",
    "        random_probability = random.random()\n",
    "        logger.debug(f'min_num = {min_num}')\n",
    "        logger.debug(f'max_num = {max_num}')\n",
    "        m = find_min_value_given_probability(N, n, random_probability)\n",
    "        logger.debug(f'result m = {m}')\n",
    "        number = min_num + m - 1\n",
    "        logger.debug(f'number = {number}')\n",
    "        logger.debug('')\n",
    "        min_num = number + 1\n",
    "        n -= 1\n",
    "        yield number"
   ]
  },
  {
   "cell_type": "code",
   "execution_count": 7,
   "id": "a7953bb2-48d8-43ee-a857-4444dd9f09d0",
   "metadata": {
    "editable": true,
    "slideshow": {
     "slide_type": ""
    },
    "tags": []
   },
   "outputs": [
    {
     "data": {
      "text/plain": [
       "[1, 3, 8]"
      ]
     },
     "execution_count": 7,
     "metadata": {},
     "output_type": "execute_result"
    }
   ],
   "source": [
    "list(generate_unique_random_numbers(1, 10, 3))"
   ]
  },
  {
   "cell_type": "markdown",
   "id": "e322f1ac-2a8d-4e14-80e2-d9c773c53e93",
   "metadata": {
    "editable": true,
    "slideshow": {
     "slide_type": ""
    },
    "tags": []
   },
   "source": [
    "## Distribution\n",
    "\n",
    "The distribution of this approach is even."
   ]
  },
  {
   "cell_type": "code",
   "execution_count": null,
   "id": "26df20c913758233",
   "metadata": {},
   "outputs": [],
   "source": [
    "import run\n",
    "\n",
    "logger.setLevel(logging.DEBUG)\n",
    "\n",
    "run.plot(generate_unique_random_numbers, 0, 9, 3, 1000)"
   ]
  },
  {
   "cell_type": "markdown",
   "id": "ebc63df0-2288-4bd8-8049-ecda2a8e6269",
   "metadata": {
    "editable": true,
    "slideshow": {
     "slide_type": ""
    },
    "tags": []
   },
   "source": [
    "## Execution Time\n",
    "\n",
    "The execution time here is terrible. Can we do better?"
   ]
  },
  {
   "cell_type": "code",
   "execution_count": null,
   "id": "759d5b19-2c65-40e9-adc2-df52465d8377",
   "metadata": {
    "editable": true,
    "slideshow": {
     "slide_type": ""
    },
    "tags": []
   },
   "outputs": [],
   "source": [
    "import plot\n",
    "\n",
    "df = run.measure_time(lambda range_size, batch_size: generate_unique_random_numbers(1, range_size, batch_size), range(100,100))\n",
    "plot.execution_time(df)"
   ]
  },
  {
   "cell_type": "markdown",
   "id": "5ac7d73b-2e29-413a-a4cf-40cb413fa337",
   "metadata": {
    "editable": true,
    "slideshow": {
     "slide_type": ""
    },
    "tags": []
   },
   "source": [
    "## Memory Usage\n",
    "\n",
    "The memory usage is constant."
   ]
  }
 ],
 "metadata": {
  "kernelspec": {
   "display_name": "Python 3 (ipykernel)",
   "language": "python",
   "name": "python3"
  },
  "language_info": {
   "codemirror_mode": {
    "name": "ipython",
    "version": 3
   },
   "file_extension": ".py",
   "mimetype": "text/x-python",
   "name": "python",
   "nbconvert_exporter": "python",
   "pygments_lexer": "ipython3",
   "version": "3.12.5"
  }
 },
 "nbformat": 4,
 "nbformat_minor": 5
}
