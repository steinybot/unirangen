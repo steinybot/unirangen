{
 "cells": [
  {
   "cell_type": "markdown",
   "id": "1cfe38b2-96ff-45db-8915-90296d04557c",
   "metadata": {
    "editable": true,
    "slideshow": {
     "slide_type": ""
    },
    "tags": []
   },
   "source": [
    "# A Smarter Implementation\n",
    "\n",
    "We should be able to search smarter."
   ]
  },
  {
   "cell_type": "code",
   "execution_count": 87,
   "id": "03e10b97-12d4-4e39-b556-ba6b917f44df",
   "metadata": {
    "editable": true,
    "slideshow": {
     "slide_type": ""
    },
    "tags": []
   },
   "outputs": [],
   "source": [
    "import random\n",
    "from typing import Generator\n",
    "from math import comb, log, floor\n",
    "\n",
    "\n",
    "def find_min_value_given_probability(N, n, target_probability):\n",
    "    # Calculate the total combinations for the sample\n",
    "    total_combinations = comb(N, n)\n",
    "    \n",
    "    # Iterate to find the m that matches the target probability\n",
    "    m = 1\n",
    "    while m < N - n + 1:\n",
    "        current_combination = comb(N - m, n)\n",
    "        probability = current_combination / total_combinations\n",
    "\n",
    "        print(f'target_probability = {target_probability}')\n",
    "        print(f'probability = {probability}')\n",
    "        print(f'm = {m}')\n",
    "        \n",
    "        if probability <= target_probability:\n",
    "            return m\n",
    "\n",
    "        # FIXME: This might go too far.\n",
    "        #  The final m is > current m and <= the m below.\n",
    "        m = m + floor(log(target_probability) / log(probability))\n",
    "        print(f'next_m = {m}')\n",
    "    \n",
    "    return m\n",
    "\n",
    "\n",
    "def generate_unique_random_numbers(min_num: int, max_num: int, batch_size: int) -> Generator[int, None, None]:\n",
    "    if max_num - min_num + 1 < batch_size:\n",
    "        raise ValueError(\"Range is too small to generate the requested number of unique random numbers.\")\n",
    "\n",
    "    n = batch_size\n",
    "\n",
    "    while n > 0:\n",
    "        N = max_num - min_num + 1\n",
    "        random_probability = random.random()\n",
    "        print(f'min_num = {min_num}')\n",
    "        print(f'max_num = {max_num}')\n",
    "        m = find_min_value_given_probability(N, n, random_probability)\n",
    "        number = min_num + m - 1\n",
    "        print(f'number = {number}')\n",
    "        print()\n",
    "        min_num = number + 1\n",
    "        n -= 1\n",
    "        yield number"
   ]
  },
  {
   "cell_type": "code",
   "execution_count": 91,
   "id": "a7953bb2-48d8-43ee-a857-4444dd9f09d0",
   "metadata": {
    "editable": true,
    "slideshow": {
     "slide_type": ""
    },
    "tags": []
   },
   "outputs": [
    {
     "name": "stdout",
     "output_type": "stream",
     "text": [
      "min_num = 1\n",
      "max_num = 10\n",
      "target_probability = 0.6725479427595327\n",
      "probability = 0.7\n",
      "m = 1\n",
      "next_m = 2\n",
      "target_probability = 0.6725479427595327\n",
      "probability = 0.4666666666666667\n",
      "m = 2\n",
      "number = 2\n",
      "\n",
      "min_num = 3\n",
      "max_num = 10\n",
      "target_probability = 0.09546569265422766\n",
      "probability = 0.75\n",
      "m = 1\n",
      "next_m = 9\n",
      "number = 11\n",
      "\n",
      "min_num = 12\n",
      "max_num = 10\n"
     ]
    },
    {
     "ename": "ValueError",
     "evalue": "n must be a non-negative integer",
     "output_type": "error",
     "traceback": [
      "\u001b[0;31m---------------------------------------------------------------------------\u001b[0m",
      "\u001b[0;31mValueError\u001b[0m                                Traceback (most recent call last)",
      "Cell \u001b[0;32mIn[91], line 1\u001b[0m\n\u001b[0;32m----> 1\u001b[0m \u001b[38;5;28;43mlist\u001b[39;49m\u001b[43m(\u001b[49m\u001b[43mgenerate_unique_random_numbers\u001b[49m\u001b[43m(\u001b[49m\u001b[38;5;241;43m1\u001b[39;49m\u001b[43m,\u001b[49m\u001b[43m \u001b[49m\u001b[38;5;241;43m10\u001b[39;49m\u001b[43m,\u001b[49m\u001b[43m \u001b[49m\u001b[38;5;241;43m3\u001b[39;49m\u001b[43m)\u001b[49m\u001b[43m)\u001b[49m\n",
      "Cell \u001b[0;32mIn[87], line 40\u001b[0m, in \u001b[0;36mgenerate_unique_random_numbers\u001b[0;34m(min_num, max_num, batch_size)\u001b[0m\n\u001b[1;32m     38\u001b[0m \u001b[38;5;28mprint\u001b[39m(\u001b[38;5;124mf\u001b[39m\u001b[38;5;124m'\u001b[39m\u001b[38;5;124mmin_num = \u001b[39m\u001b[38;5;132;01m{\u001b[39;00mmin_num\u001b[38;5;132;01m}\u001b[39;00m\u001b[38;5;124m'\u001b[39m)\n\u001b[1;32m     39\u001b[0m \u001b[38;5;28mprint\u001b[39m(\u001b[38;5;124mf\u001b[39m\u001b[38;5;124m'\u001b[39m\u001b[38;5;124mmax_num = \u001b[39m\u001b[38;5;132;01m{\u001b[39;00mmax_num\u001b[38;5;132;01m}\u001b[39;00m\u001b[38;5;124m'\u001b[39m)\n\u001b[0;32m---> 40\u001b[0m m \u001b[38;5;241m=\u001b[39m \u001b[43mfind_min_value_given_probability\u001b[49m\u001b[43m(\u001b[49m\u001b[43mN\u001b[49m\u001b[43m,\u001b[49m\u001b[43m \u001b[49m\u001b[43mn\u001b[49m\u001b[43m,\u001b[49m\u001b[43m \u001b[49m\u001b[43mrandom_probability\u001b[49m\u001b[43m)\u001b[49m\n\u001b[1;32m     41\u001b[0m number \u001b[38;5;241m=\u001b[39m min_num \u001b[38;5;241m+\u001b[39m m \u001b[38;5;241m-\u001b[39m \u001b[38;5;241m1\u001b[39m\n\u001b[1;32m     42\u001b[0m \u001b[38;5;28mprint\u001b[39m(\u001b[38;5;124mf\u001b[39m\u001b[38;5;124m'\u001b[39m\u001b[38;5;124mnumber = \u001b[39m\u001b[38;5;132;01m{\u001b[39;00mnumber\u001b[38;5;132;01m}\u001b[39;00m\u001b[38;5;124m'\u001b[39m)\n",
      "Cell \u001b[0;32mIn[87], line 8\u001b[0m, in \u001b[0;36mfind_min_value_given_probability\u001b[0;34m(N, n, target_probability)\u001b[0m\n\u001b[1;32m      6\u001b[0m \u001b[38;5;28;01mdef\u001b[39;00m \u001b[38;5;21mfind_min_value_given_probability\u001b[39m(N, n, target_probability):\n\u001b[1;32m      7\u001b[0m     \u001b[38;5;66;03m# Calculate the total combinations for the sample\u001b[39;00m\n\u001b[0;32m----> 8\u001b[0m     total_combinations \u001b[38;5;241m=\u001b[39m \u001b[43mcomb\u001b[49m\u001b[43m(\u001b[49m\u001b[43mN\u001b[49m\u001b[43m,\u001b[49m\u001b[43m \u001b[49m\u001b[43mn\u001b[49m\u001b[43m)\u001b[49m\n\u001b[1;32m     10\u001b[0m     \u001b[38;5;66;03m# Iterate to find the m that matches the target probability\u001b[39;00m\n\u001b[1;32m     11\u001b[0m     m \u001b[38;5;241m=\u001b[39m \u001b[38;5;241m1\u001b[39m\n",
      "\u001b[0;31mValueError\u001b[0m: n must be a non-negative integer"
     ]
    }
   ],
   "source": [
    "list(generate_unique_random_numbers(1, 10, 3))"
   ]
  },
  {
   "cell_type": "markdown",
   "id": "e322f1ac-2a8d-4e14-80e2-d9c773c53e93",
   "metadata": {
    "editable": true,
    "slideshow": {
     "slide_type": ""
    },
    "tags": []
   },
   "source": [
    "## Distribution\n",
    "\n",
    "The distribution of this approach is even."
   ]
  },
  {
   "cell_type": "code",
   "execution_count": 86,
   "id": "26df20c913758233",
   "metadata": {},
   "outputs": [
    {
     "name": "stdout",
     "output_type": "stream",
     "text": [
      "Chi-Square Statistic: 1648.3133333333333\n",
      "P-Value: 0.0\n"
     ]
    },
    {
     "data": {
      "image/png": "[encoded data removed]",
      "text/plain": [
       "<Figure size 640x480 with 1 Axes>"
      ]
     },
     "metadata": {},
     "output_type": "display_data"
    }
   ],
   "source": [
    "import run\n",
    "\n",
    "run.plot(generate_unique_random_numbers, 0, 9, 3, 1000)"
   ]
  },
  {
   "cell_type": "markdown",
   "id": "ebc63df0-2288-4bd8-8049-ecda2a8e6269",
   "metadata": {
    "editable": true,
    "slideshow": {
     "slide_type": ""
    },
    "tags": []
   },
   "source": [
    "## Execution Time\n",
    "\n",
    "The execution time here is terrible. Can we do better?"
   ]
  },
  {
   "cell_type": "code",
   "execution_count": 4,
   "id": "759d5b19-2c65-40e9-adc2-df52465d8377",
   "metadata": {
    "editable": true,
    "slideshow": {
     "slide_type": ""
    },
    "tags": []
   },
   "outputs": [],
   "source": [
    "import plot\n",
    "\n",
    "#df = run.measure_time(lambda range_size, batch_size: generate_unique_random_numbers(1, range_size, batch_size))\n",
    "#plot.execution_time(df)"
   ]
  },
  {
   "cell_type": "markdown",
   "id": "5ac7d73b-2e29-413a-a4cf-40cb413fa337",
   "metadata": {
    "editable": true,
    "slideshow": {
     "slide_type": ""
    },
    "tags": []
   },
   "source": [
    "## Memory Usage\n",
    "\n",
    "The memory usage is constant."
   ]
  }
 ],
 "metadata": {
  "kernelspec": {
   "display_name": "Python 3 (ipykernel)",
   "language": "python",
   "name": "python3"
  },
  "language_info": {
   "codemirror_mode": {
    "name": "ipython",
    "version": 3
   },
   "file_extension": ".py",
   "mimetype": "text/x-python",
   "name": "python",
   "nbconvert_exporter": "python",
   "pygments_lexer": "ipython3",
   "version": "3.12.5"
  }
 },
 "nbformat": 4,
 "nbformat_minor": 5
}
