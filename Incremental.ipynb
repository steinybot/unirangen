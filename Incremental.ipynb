{
 "cells": [
  {
   "cell_type": "markdown",
   "id": "1cfe38b2-96ff-45db-8915-90296d04557c",
   "metadata": {},
   "source": [
    "# An Incremental Implementation\n",
    "\n",
    "Is there a way that we could generate unique random numbers without keeping track of all the numbers generated so far?\n",
    "\n",
    "## Right Idea - Bad Distribution"
   ]
  },
  {
   "cell_type": "code",
   "execution_count": 3,
   "id": "03e10b97-12d4-4e39-b556-ba6b917f44df",
   "metadata": {},
   "outputs": [],
   "source": [
    "import random\n",
    "from typing import Generator\n",
    "\n",
    "def generate_unique_random_numbers(min_num: int, max_num: int, batch_size: int) -> Generator[int, None, None]:\n",
    "    if max_num - min_num + 1 < batch_size:\n",
    "        raise ValueError(\"Range is too small to generate the requested number of unique random numbers.\")\n",
    "    \n",
    "    remaining_count = batch_size\n",
    "    number = None\n",
    "\n",
    "    while remaining_count > 0:\n",
    "        next_min = number if number is not None else 0\n",
    "        next_max = max_num - remaining_count + 1\n",
    "        remaining_count -= 1\n",
    "        number = random.randint(next_min, next_max)\n",
    "        yield number"
   ]
  },
  {
   "cell_type": "code",
   "execution_count": 4,
   "id": "a7953bb2-48d8-43ee-a857-4444dd9f09d0",
   "metadata": {},
   "outputs": [
    {
     "data": {
      "text/plain": [
       "[5, 8, 9]"
      ]
     },
     "execution_count": 4,
     "metadata": {},
     "output_type": "execute_result"
    }
   ],
   "source": [
    "list(generate_unique_random_numbers(0, 9, 3))"
   ]
  },
  {
   "cell_type": "code",
   "execution_count": 5,
   "id": "26df20c913758233",
   "metadata": {},
   "outputs": [
    {
     "name": "stdout",
     "output_type": "stream",
     "text": [
      "Chi-Square Statistic: 607.5799999999999\n",
      "P-Value: 4.943768300939688e-125\n"
     ]
    },
    {
     "data": {
      "image/png": "[encoded data removed]",
      "text/plain": [
       "<Figure size 640x480 with 1 Axes>"
      ]
     },
     "metadata": {},
     "output_type": "display_data"
    }
   ],
   "source": [
    "import utils\n",
    "\n",
    "utils.run_and_plot(generate_unique_random_numbers, 0, 9, 3, 1000)"
   ]
  },
  {
   "cell_type": "markdown",
   "id": "c458af32-2d7a-468c-b729-ba017ec70ac9",
   "metadata": {},
   "source": [
    "Here you can see that there is a clear bias towards the higher numbers so this isn't quite right."
   ]
  },
  {
   "cell_type": "markdown",
   "id": "ebc63df0-2288-4bd8-8049-ecda2a8e6269",
   "metadata": {},
   "source": [
    "It is still fast even if the range is large."
   ]
  },
  {
   "cell_type": "code",
   "execution_count": 11,
   "id": "a128b5bb-3d1f-4166-8832-c61c04f3e477",
   "metadata": {},
   "outputs": [
    {
     "name": "stdout",
     "output_type": "stream",
     "text": [
      "CPU times: user 60 μs, sys: 1 μs, total: 61 μs\n",
      "Wall time: 67.2 μs\n"
     ]
    },
    {
     "data": {
      "text/plain": [
       "[1409913211556826722263180117803521630536159498997905495008982029547353437134260178631085358407910821,\n",
       " 9967178976503078365943024306545041581148013199410683100506170089838574129244056970858827040018852507,\n",
       " 9972088843216131070979819326450343838239274929968310995003589813740364072806825999519053261638280109]"
      ]
     },
     "execution_count": 11,
     "metadata": {},
     "output_type": "execute_result"
    }
   ],
   "source": [
    "%time list(generate_unique_random_numbers(0, 10**100, 3))"
   ]
  },
  {
   "cell_type": "markdown",
   "id": "27dc393e-6480-4690-b966-6026e43d5ca8",
   "metadata": {},
   "source": [
    "What happens if we want to generate a lot of unique random numbers?"
   ]
  },
  {
   "cell_type": "code",
   "execution_count": 8,
   "id": "e3a7ce22-8729-40f1-b6e5-83d011633fd4",
   "metadata": {},
   "outputs": [
    {
     "name": "stdout",
     "output_type": "stream",
     "text": [
      "CPU times: user 46.4 ms, sys: 1.45 ms, total: 47.9 ms\n",
      "Wall time: 47.5 ms\n"
     ]
    }
   ],
   "source": [
    "%time utils.run_and_ignore(lambda: generate_unique_random_numbers(0, 10**100, 10**5))"
   ]
  },
  {
   "cell_type": "code",
   "execution_count": 9,
   "id": "1d1cd4a7-77fa-4f08-8e58-7338bcab4495",
   "metadata": {},
   "outputs": [
    {
     "name": "stdout",
     "output_type": "stream",
     "text": [
      "CPU times: user 434 ms, sys: 3.77 ms, total: 437 ms\n",
      "Wall time: 440 ms\n"
     ]
    }
   ],
   "source": [
    "%time utils.run_and_ignore(lambda: generate_unique_random_numbers(0, 10**100, 10**6))"
   ]
  },
  {
   "cell_type": "code",
   "execution_count": 10,
   "id": "f20e0194-7452-4b1c-9392-f8e2bf99cf99",
   "metadata": {},
   "outputs": [
    {
     "name": "stdout",
     "output_type": "stream",
     "text": [
      "CPU times: user 4.22 s, sys: 15.1 ms, total: 4.23 s\n",
      "Wall time: 4.24 s\n"
     ]
    }
   ],
   "source": [
    "%time utils.run_and_ignore(lambda: generate_unique_random_numbers(0, 10**100, 10**7))"
   ]
  },
  {
   "cell_type": "code",
   "execution_count": 7,
   "id": "e8fb7649-1f6c-4458-9deb-3cd3b075fda6",
   "metadata": {},
   "outputs": [
    {
     "name": "stdout",
     "output_type": "stream",
     "text": [
      "CPU times: user 44.7 s, sys: 137 ms, total: 44.8 s\n",
      "Wall time: 44.9 s\n"
     ]
    }
   ],
   "source": [
    "%time utils.run_and_ignore(lambda: generate_unique_random_numbers(0, 10**100, 10**8))"
   ]
  },
  {
   "cell_type": "markdown",
   "id": "f143ca41-7b6f-4e24-bac0-7d11cafe5162",
   "metadata": {},
   "source": [
    "It is nearly twice as fast as the naive implementation and uses a constant amount of memory."
   ]
  }
 ],
 "metadata": {
  "kernelspec": {
   "display_name": "Python 3 (ipykernel)",
   "language": "python",
   "name": "python3"
  },
  "language_info": {
   "codemirror_mode": {
    "name": "ipython",
    "version": 3
   },
   "file_extension": ".py",
   "mimetype": "text/x-python",
   "name": "python",
   "nbconvert_exporter": "python",
   "pygments_lexer": "ipython3",
   "version": "3.12.5"
  }
 },
 "nbformat": 4,
 "nbformat_minor": 5
}
