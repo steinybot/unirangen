{
 "cells": [
  {
   "cell_type": "markdown",
   "id": "1cfe38b2-96ff-45db-8915-90296d04557c",
   "metadata": {},
   "source": [
    "# An Incremental Implementation\n",
    "\n",
    "Is there a way that we could generate unique random numbers without keeping track of all the numbers generated so far?\n",
    "\n",
    "## Right Idea - Bad Distribution"
   ]
  },
  {
   "cell_type": "code",
   "execution_count": null,
   "id": "03e10b97-12d4-4e39-b556-ba6b917f44df",
   "metadata": {},
   "outputs": [],
   "source": [
    "import random\n",
    "from typing import Generator, List\n",
    "\n",
    "def generate_unique_random_numbers(min_num: int, max_num: int, batch_size: int) -> Generator[int, None, None]:\n",
    "    if max_num - min_num + 1 < batch_size:\n",
    "        raise ValueError(\"Range is too small to generate the requested number of unique random numbers.\")\n",
    "    \n",
    "    remaining_count = batch_size\n",
    "    number = None\n",
    "\n",
    "    while remaining_count > 0:\n",
    "        next_min = number if number is not None else 0\n",
    "        next_max = max_num - remaining_count + 1\n",
    "        number = random.randint(next_min, next_max)\n",
    "        yield number"
   ]
  },
  {
   "cell_type": "code",
   "execution_count": null,
   "id": "a7953bb2-48d8-43ee-a857-4444dd9f09d0",
   "metadata": {},
   "outputs": [],
   "source": []
  }
 ],
 "metadata": {
  "kernelspec": {
   "display_name": "Python 3 (ipykernel)",
   "language": "python",
   "name": "python3"
  },
  "language_info": {
   "codemirror_mode": {
    "name": "ipython",
    "version": 3
   },
   "file_extension": ".py",
   "mimetype": "text/x-python",
   "name": "python",
   "nbconvert_exporter": "python",
   "pygments_lexer": "ipython3",
   "version": "3.12.5"
  }
 },
 "nbformat": 4,
 "nbformat_minor": 5
}
