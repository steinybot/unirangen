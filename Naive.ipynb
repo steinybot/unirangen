{
 "cells": [
  {
   "cell_type": "markdown",
   "id": "1cfe38b2-96ff-45db-8915-90296d04557c",
   "metadata": {},
   "source": [
    "# A Naive Implementation\n",
    "\n",
    "1. Generate a random number within the desired range and check if it is unique and if it is then add it to the results.\n",
    "2. Repeat until the desired number of results have been generated"
   ]
  },
  {
   "cell_type": "code",
   "execution_count": 3,
   "id": "90487930-77d3-4d79-9bc3-18986c4f3329",
   "metadata": {},
   "outputs": [],
   "source": [
    "import random\n",
    "from typing import Generator, List\n",
    "\n",
    "def generate_unique_random_numbers(min_num: int, max_num: int, batch_size: int) -> Generator[int, None, None]:\n",
    "    if max_num - min_num + 1 < batch_size:\n",
    "        raise ValueError(\"Range is too small to generate the requested number of unique random numbers.\")\n",
    "    \n",
    "    unique_numbers = set()\n",
    "\n",
    "    while len(unique_numbers) < batch_size:\n",
    "        number = random.randint(min_num, max_num)\n",
    "        if number not in unique_numbers:\n",
    "            unique_numbers.add(number)\n",
    "            yield number"
   ]
  },
  {
   "cell_type": "code",
   "execution_count": 7,
   "id": "c71d5306-e8af-410d-b8af-fee01babb412",
   "metadata": {},
   "outputs": [
    {
     "data": {
      "text/plain": [
       "[5, 2, 4]"
      ]
     },
     "execution_count": 7,
     "metadata": {},
     "output_type": "execute_result"
    }
   ],
   "source": [
    "list(generate_unique_random_numbers(0, 9, 3))"
   ]
  },
  {
   "cell_type": "markdown",
   "id": "726d4119-4e01-47ba-a9ce-bc8766479d2b",
   "metadata": {},
   "source": [
    "We can run it multiple times and plot the results to convince ourselves that it is evenly distributed."
   ]
  },
  {
   "cell_type": "code",
   "execution_count": 8,
   "id": "e3d58e11-fbd4-4195-a117-53992c2d4afb",
   "metadata": {},
   "outputs": [],
   "source": [
    "def run_and_collect_data(min_num: int, max_num: int, batch_size: int, iterations: int):\n",
    "    all_results = []\n",
    "    \n",
    "    for _ in range(iterations):\n",
    "        result = generate_unique_random_numbers(min_num, max_num, batch_size)\n",
    "        all_results.append(result)\n",
    "    \n",
    "    return all_results"
   ]
  },
  {
   "cell_type": "code",
   "execution_count": 9,
   "id": "759a0da4-d7d9-4ed6-9c04-a19ce9442765",
   "metadata": {},
   "outputs": [],
   "source": [
    "from scipy.stats import chisquare\n",
    "\n",
    "def perform_chi_square_test(all_results: List[List[int]], min_num: int, max_num: int):\n",
    "    # Flatten the list of lists into a single list\n",
    "    all_numbers = [number for result in all_results for number in result]\n",
    "    \n",
    "    # Calculate observed frequencies\n",
    "    observed_freq = [all_numbers.count(i) for i in range(min_num, max_num + 1)]\n",
    "    \n",
    "    # Expected frequency (assuming uniform distribution)\n",
    "    expected_freq = [len(all_numbers) / (max_num - min_num + 1)] * (max_num - min_num + 1)\n",
    "    \n",
    "    # Perform chi-square test\n",
    "    chi2, p_value = chisquare(f_obs=observed_freq, f_exp=expected_freq)\n",
    "    \n",
    "    return chi2, p_value, observed_freq, expected_freq"
   ]
  },
  {
   "cell_type": "code",
   "execution_count": 10,
   "id": "2b0fef22-e916-431d-adfa-4fcaf320cac9",
   "metadata": {},
   "outputs": [],
   "source": [
    "import matplotlib.pyplot as plt\n",
    "\n",
    "def plot_frequencies(observed_freq: List[int], expected_freq: List[float], min_num: int, max_num: int):\n",
    "    numbers = list(range(min_num, max_num + 1))\n",
    "    \n",
    "    plt.bar(numbers, observed_freq, color='blue', alpha=0.7, label='Observed')\n",
    "    plt.plot(numbers, expected_freq, color='red', marker='o', linestyle='dashed', linewidth=2, markersize=8, label='Expected')\n",
    "    \n",
    "    plt.title('Observed vs Expected Frequencies of Random Numbers')\n",
    "    plt.xlabel('Number')\n",
    "    plt.ylabel('Frequency')\n",
    "    plt.legend()\n",
    "    plt.show()"
   ]
  },
  {
   "cell_type": "code",
   "execution_count": 13,
   "id": "5e0766a8-adc7-41f9-9a74-e2d765cef4fd",
   "metadata": {},
   "outputs": [
    {
     "name": "stdout",
     "output_type": "stream",
     "text": [
      "Chi-Square Statistic: 3.3440000000000003\n",
      "P-Value: 0.9490828702262573\n"
     ]
    },
    {
     "data": {
      "image/png": "[encoded data removed]",
      "text/plain": [
       "<Figure size 640x480 with 1 Axes>"
      ]
     },
     "metadata": {},
     "output_type": "display_data"
    }
   ],
   "source": [
    "min_num = 1\n",
    "max_num = 10\n",
    "batch_size = 5\n",
    "iterations = 1000  # Increase this number for better confidence\n",
    "\n",
    "# Generate the data\n",
    "all_results = run_and_collect_data(min_num, max_num, batch_size, iterations)\n",
    "\n",
    "# Perform chi-square test\n",
    "chi2, p_value, observed_freq, expected_freq = perform_chi_square_test(all_results, min_num, max_num)\n",
    "\n",
    "# Print the chi-square test results\n",
    "print(f\"Chi-Square Statistic: {chi2}\")\n",
    "print(f\"P-Value: {p_value}\")\n",
    "\n",
    "# Plot observed vs expected frequencies\n",
    "plot_frequencies(observed_freq, expected_freq, min_num, max_num)"
   ]
  },
  {
   "cell_type": "markdown",
   "id": "744954f7-f67e-4de3-b2ed-4adb3d3027d9",
   "metadata": {},
   "source": [
    "It is fast even if the range is large."
   ]
  },
  {
   "cell_type": "code",
   "execution_count": 15,
   "id": "4287fdb0-c96b-449c-bc06-ce04c29f6c4f",
   "metadata": {},
   "outputs": [
    {
     "data": {
      "text/plain": [
       "[1013565747521208535692897770166876623233020951453411432067581305440985588179990957367851232293076606,\n",
       " 8805541788928874760542754000414939561073089924136273306705793588005861410509626009140602264379120297,\n",
       " 5498882927361846767603961398196548432313874122211881105623391552399905325273492230725151149967793127]"
      ]
     },
     "execution_count": 15,
     "metadata": {},
     "output_type": "execute_result"
    }
   ],
   "source": [
    "list(generate_unique_random_numbers(0, 10**100, 3))"
   ]
  },
  {
   "cell_type": "markdown",
   "id": "e32515e0-6555-4ffd-a3e8-19115ffc20f5",
   "metadata": {},
   "source": [
    "What happens if we want to generate a lot of unique random numbers?"
   ]
  },
  {
   "cell_type": "code",
   "execution_count": null,
   "id": "e546d4c6-1fc7-458d-b3fe-198cc9bdc7cf",
   "metadata": {},
   "outputs": [],
   "source": [
    "%time list(generate_unique_random_numbers(0, 10**100, 10**10))"
   ]
  }
 ],
 "metadata": {
  "kernelspec": {
   "display_name": "Python 3 (ipykernel)",
   "language": "python",
   "name": "python3"
  },
  "language_info": {
   "codemirror_mode": {
    "name": "ipython",
    "version": 3
   },
   "file_extension": ".py",
   "mimetype": "text/x-python",
   "name": "python",
   "nbconvert_exporter": "python",
   "pygments_lexer": "ipython3",
   "version": "3.12.5"
  }
 },
 "nbformat": 4,
 "nbformat_minor": 5
}
